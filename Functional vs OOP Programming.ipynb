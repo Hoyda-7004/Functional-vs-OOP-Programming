{
 "cells": [
  {
   "cell_type": "markdown",
   "id": "ed39f243",
   "metadata": {},
   "source": [
    "Object-Oriented Programming Exercise - Sort an Array of 0s, 1s, and 2s"
   ]
  },
  {
   "cell_type": "code",
   "execution_count": 1,
   "id": "36356583",
   "metadata": {},
   "outputs": [],
   "source": [
    "#User function Template for python3\n",
    "\n",
    "class Solution:\n",
    "    def sort012(self, arr, n):\n",
    "        low, mid, high = 0, 0, n - 1\n",
    "\n",
    "        while mid <= high:\n",
    "            if arr[mid] == 0:\n",
    "                # If the element is 0, swap it with the element at low and move both pointers.\n",
    "                arr[low], arr[mid] = arr[mid], arr[low]\n",
    "                low += 1\n",
    "                mid += 1\n",
    "            elif arr[mid] == 1:\n",
    "                # If the element is 1, just move the mid pointer.\n",
    "                mid += 1\n",
    "            else:\n",
    "                # If the element is 2, swap it with the element at high and move the high pointer.\n",
    "                arr[mid], arr[high] = arr[high], arr[mid]\n",
    "                high -= 1"
   ]
  },
  {
   "cell_type": "markdown",
   "id": "a40f8b55",
   "metadata": {},
   "source": [
    "Lambda Expressions Exercise - Binary Search"
   ]
  },
  {
   "cell_type": "code",
   "execution_count": 2,
   "id": "ce8f0705",
   "metadata": {},
   "outputs": [],
   "source": [
    "#User function template for Python\n",
    "\n",
    "class Solution:\n",
    "    def binarysearch(self, arr, n, k):\n",
    "        low, high = 0, n - 1\n",
    "\n",
    "        while low <= high:\n",
    "            mid = (low + high) // 2\n",
    "\n",
    "            if arr[mid] == k:\n",
    "                return mid  # Element found, return its index\n",
    "            elif arr[mid] < k:\n",
    "                low = mid + 1\n",
    "            else:\n",
    "                high = mid - 1\n",
    "\n",
    "        return -1  # Element not found"
   ]
  }
 ],
 "metadata": {
  "kernelspec": {
   "display_name": "Python 3 (ipykernel)",
   "language": "python",
   "name": "python3"
  },
  "language_info": {
   "codemirror_mode": {
    "name": "ipython",
    "version": 3
   },
   "file_extension": ".py",
   "mimetype": "text/x-python",
   "name": "python",
   "nbconvert_exporter": "python",
   "pygments_lexer": "ipython3",
   "version": "3.11.5"
  }
 },
 "nbformat": 4,
 "nbformat_minor": 5
}
